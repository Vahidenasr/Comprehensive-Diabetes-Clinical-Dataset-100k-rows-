{
 "cells": [
  {
   "cell_type": "code",
   "execution_count": null,
   "metadata": {
    "_cell_guid": "b1076dfc-b9ad-4769-8c92-a6c4dae69d19",
    "_uuid": "8f2839f25d086af736a60e9eeb907d3b93b6e0e5",
    "execution": {
     "iopub.execute_input": "2024-07-23T10:47:04.969187Z",
     "iopub.status.busy": "2024-07-23T10:47:04.968772Z",
     "iopub.status.idle": "2024-07-23T10:47:05.436957Z",
     "shell.execute_reply": "2024-07-23T10:47:05.43578Z",
     "shell.execute_reply.started": "2024-07-23T10:47:04.969151Z"
    },
    "trusted": true
   },
   "outputs": [],
   "source": [
    "# This Python 3 environment comes with many helpful analytics libraries installed\n",
    "# It is defined by the kaggle/python Docker image: https://github.com/kaggle/docker-python\n",
    "# For example, here's several helpful packages to load\n",
    "\n",
    "import numpy as np # linear algebra\n",
    "import pandas as pd # data processing, CSV file I/O (e.g. pd.read_csv)\n",
    "\n",
    "# Input data files are available in the read-only \"../input/\" directory\n",
    "# For example, running this (by clicking run or pressing Shift+Enter) will list all files under the input directory\n",
    "\n",
    "import os\n",
    "for dirname, _, filenames in os.walk('/kaggle/input'):\n",
    "    for filename in filenames:\n",
    "        print(os.path.join(dirname, filename))\n",
    "\n",
    "# You can write up to 20GB to the current directory (/kaggle/working/) that gets preserved as output when you create a version using \"Save & Run All\" \n",
    "# You can also write temporary files to /kaggle/temp/, but they won't be saved outside of the current session"
   ]
  },
  {
   "cell_type": "code",
   "execution_count": null,
   "metadata": {},
   "outputs": [],
   "source": []
  },
  {
   "cell_type": "markdown",
   "metadata": {},
   "source": [
    "# Business Understanding\n",
    "Problem definition: The goal of this project is to create a predictive modeling to predict the likelihood of diabetes based on demographic and health-related features.\n",
    "\n"
   ]
  },
  {
   "cell_type": "code",
   "execution_count": null,
   "metadata": {
    "execution": {
     "iopub.execute_input": "2024-07-23T10:47:05.443613Z",
     "iopub.status.busy": "2024-07-23T10:47:05.443293Z",
     "iopub.status.idle": "2024-07-23T10:47:05.67019Z",
     "shell.execute_reply": "2024-07-23T10:47:05.668886Z",
     "shell.execute_reply.started": "2024-07-23T10:47:05.443586Z"
    },
    "trusted": true
   },
   "outputs": [],
   "source": [
    "df=pd.read_csv(\"/kaggle/input/100000-diabetes-clinical-dataset/diabetes_dataset.csv\")"
   ]
  },
  {
   "cell_type": "code",
   "execution_count": null,
   "metadata": {
    "execution": {
     "iopub.execute_input": "2024-07-23T10:47:05.672348Z",
     "iopub.status.busy": "2024-07-23T10:47:05.671863Z",
     "iopub.status.idle": "2024-07-23T10:47:05.701224Z",
     "shell.execute_reply": "2024-07-23T10:47:05.699713Z",
     "shell.execute_reply.started": "2024-07-23T10:47:05.672305Z"
    },
    "trusted": true
   },
   "outputs": [],
   "source": [
    "df.head()"
   ]
  },
  {
   "cell_type": "code",
   "execution_count": null,
   "metadata": {
    "execution": {
     "iopub.execute_input": "2024-07-23T10:47:05.70553Z",
     "iopub.status.busy": "2024-07-23T10:47:05.704515Z",
     "iopub.status.idle": "2024-07-23T10:47:05.754702Z",
     "shell.execute_reply": "2024-07-23T10:47:05.753397Z",
     "shell.execute_reply.started": "2024-07-23T10:47:05.705481Z"
    },
    "trusted": true
   },
   "outputs": [],
   "source": [
    "df.info()"
   ]
  },
  {
   "cell_type": "code",
   "execution_count": null,
   "metadata": {
    "execution": {
     "iopub.execute_input": "2024-07-23T10:47:05.757238Z",
     "iopub.status.busy": "2024-07-23T10:47:05.75681Z",
     "iopub.status.idle": "2024-07-23T10:47:05.785605Z",
     "shell.execute_reply": "2024-07-23T10:47:05.784159Z",
     "shell.execute_reply.started": "2024-07-23T10:47:05.757199Z"
    },
    "trusted": true
   },
   "outputs": [],
   "source": [
    "df['smoking_history'].value_counts()"
   ]
  },
  {
   "cell_type": "code",
   "execution_count": null,
   "metadata": {
    "execution": {
     "iopub.execute_input": "2024-07-23T10:47:05.788567Z",
     "iopub.status.busy": "2024-07-23T10:47:05.788064Z",
     "iopub.status.idle": "2024-07-23T10:47:05.839661Z",
     "shell.execute_reply": "2024-07-23T10:47:05.838423Z",
     "shell.execute_reply.started": "2024-07-23T10:47:05.788534Z"
    },
    "trusted": true
   },
   "outputs": [],
   "source": [
    "df.isnull().sum()"
   ]
  },
  {
   "cell_type": "markdown",
   "metadata": {},
   "source": [
    "### Encoding categorical data"
   ]
  },
  {
   "cell_type": "code",
   "execution_count": null,
   "metadata": {
    "execution": {
     "iopub.execute_input": "2024-07-23T10:47:05.841262Z",
     "iopub.status.busy": "2024-07-23T10:47:05.840953Z",
     "iopub.status.idle": "2024-07-23T10:47:06.380387Z",
     "shell.execute_reply": "2024-07-23T10:47:06.379101Z",
     "shell.execute_reply.started": "2024-07-23T10:47:05.841232Z"
    },
    "trusted": true
   },
   "outputs": [],
   "source": [
    "from sklearn.preprocessing import LabelEncoder"
   ]
  },
  {
   "cell_type": "code",
   "execution_count": null,
   "metadata": {
    "execution": {
     "iopub.execute_input": "2024-07-23T10:47:06.382575Z",
     "iopub.status.busy": "2024-07-23T10:47:06.3821Z",
     "iopub.status.idle": "2024-07-23T10:47:06.498315Z",
     "shell.execute_reply": "2024-07-23T10:47:06.497347Z",
     "shell.execute_reply.started": "2024-07-23T10:47:06.38253Z"
    },
    "trusted": true
   },
   "outputs": [],
   "source": [
    "le=LabelEncoder()\n",
    "df['gender']=le.fit_transform(df['gender'])\n",
    "df['age']=le.fit_transform(df['age'])\n",
    "df['location']=le.fit_transform(df['location'])\n",
    "df = pd.get_dummies(df, columns=['smoking_history'], prefix='smoking_history')"
   ]
  },
  {
   "cell_type": "code",
   "execution_count": null,
   "metadata": {
    "execution": {
     "iopub.execute_input": "2024-07-23T10:47:06.499946Z",
     "iopub.status.busy": "2024-07-23T10:47:06.499563Z",
     "iopub.status.idle": "2024-07-23T10:47:06.526268Z",
     "shell.execute_reply": "2024-07-23T10:47:06.524686Z",
     "shell.execute_reply.started": "2024-07-23T10:47:06.499917Z"
    },
    "trusted": true
   },
   "outputs": [],
   "source": [
    "df.head()"
   ]
  },
  {
   "cell_type": "markdown",
   "metadata": {},
   "source": [
    "# Descriptive Analysis"
   ]
  },
  {
   "cell_type": "code",
   "execution_count": null,
   "metadata": {
    "execution": {
     "iopub.execute_input": "2024-07-23T10:47:06.530092Z",
     "iopub.status.busy": "2024-07-23T10:47:06.529672Z",
     "iopub.status.idle": "2024-07-23T10:47:06.628206Z",
     "shell.execute_reply": "2024-07-23T10:47:06.627018Z",
     "shell.execute_reply.started": "2024-07-23T10:47:06.53006Z"
    },
    "trusted": true
   },
   "outputs": [],
   "source": [
    "summary=df.describe()\n",
    "summary"
   ]
  },
  {
   "cell_type": "markdown",
   "metadata": {},
   "source": [
    "## key insights\n",
    "\n",
    "**Year**:This dataset includes year range from 2015-2022 with the mean year being 2018.The median year is 2019 with most data points.\n",
    "\n",
    "**Gender**: There are more females than males in the dataset.\n",
    "\n",
    "**age**:The age range is from 0 to 101 years, with a mean age of 62.67 years.The median age is 64 years, indicating that half of the individuals are younger than 64 years and half are older.\n",
    "\n",
    "**Race distribution**: \n",
    "* African American: About 20.2%\n",
    "* Asian: About 20.0%\n",
    "* Caucasian: About 19.9%\n",
    "* Hispanic: About 19.9%\n",
    "* Other: About 20.0%\n",
    "\n",
    "**Hypertension:**: Approximately 7.5% of individuals have hypertension.\n",
    "\n",
    "**Heart Disease**: Approximately 3.9% of individuals have heart disease.\n",
    "\n",
    "**BMI:**: The mean BMI is 27.32.The median BMI is 27.32, indicating that half of the individuals have a BMI below this value.\n",
    "BMI values range from 10.01 to 95.69.\n",
    "\n",
    "**HbA1c** : HbA1c levels range from 3.50 to 9.00.The median HbA1c level is 5.80.\n",
    "\n",
    "**Blood Glucose Level** :The mean blood glucose level is 138.06 mg/dL. The median blood glucose level is 140 mg/dL.\n",
    "Blood glucose levels range from 80 to 300 mg/dL.\n",
    "\n",
    "**Diabetes**: Approximately 8.5% of individuals in the dataset have diabetes."
   ]
  },
  {
   "cell_type": "markdown",
   "metadata": {},
   "source": [
    "# Correlation Analysis"
   ]
  },
  {
   "cell_type": "code",
   "execution_count": null,
   "metadata": {
    "execution": {
     "iopub.execute_input": "2024-07-23T10:47:06.630323Z",
     "iopub.status.busy": "2024-07-23T10:47:06.629864Z",
     "iopub.status.idle": "2024-07-23T10:47:06.850718Z",
     "shell.execute_reply": "2024-07-23T10:47:06.849323Z",
     "shell.execute_reply.started": "2024-07-23T10:47:06.630285Z"
    },
    "trusted": true
   },
   "outputs": [],
   "source": [
    "import seaborn as sns\n",
    "import matplotlib.pyplot as plt"
   ]
  },
  {
   "cell_type": "code",
   "execution_count": null,
   "metadata": {
    "execution": {
     "iopub.execute_input": "2024-07-23T10:47:06.852895Z",
     "iopub.status.busy": "2024-07-23T10:47:06.852502Z",
     "iopub.status.idle": "2024-07-23T10:47:08.490582Z",
     "shell.execute_reply": "2024-07-23T10:47:08.489359Z",
     "shell.execute_reply.started": "2024-07-23T10:47:06.852863Z"
    },
    "trusted": true
   },
   "outputs": [],
   "source": [
    "plt.figure(figsize=(14,9))\n",
    "corr=df.corr()\n",
    "sns.heatmap(corr,annot=True,cmap=\"YlOrBr\",linewidths=0.6,fmt=\".1f\",linecolor=\"black\")\n",
    "plt.show()"
   ]
  },
  {
   "cell_type": "code",
   "execution_count": null,
   "metadata": {
    "execution": {
     "iopub.execute_input": "2024-07-23T10:47:08.492698Z",
     "iopub.status.busy": "2024-07-23T10:47:08.492282Z",
     "iopub.status.idle": "2024-07-23T10:47:08.526256Z",
     "shell.execute_reply": "2024-07-23T10:47:08.524965Z",
     "shell.execute_reply.started": "2024-07-23T10:47:08.492663Z"
    },
    "trusted": true
   },
   "outputs": [],
   "source": [
    "corr_pairs=corr.unstack()\n",
    "corr_pairs=corr_pairs[corr_pairs!=1].dropna()\n",
    "corr_pairs=corr_pairs.sort_values(ascending=False)\n",
    "top_correlated_pairs=corr_pairs.head(10)\n",
    "low_correlated_pairs=corr_pairs.tail(10)\n",
    "top_correlated_pairs"
   ]
  },
  {
   "cell_type": "code",
   "execution_count": null,
   "metadata": {
    "execution": {
     "iopub.execute_input": "2024-07-23T10:47:08.528197Z",
     "iopub.status.busy": "2024-07-23T10:47:08.527772Z",
     "iopub.status.idle": "2024-07-23T10:47:08.538795Z",
     "shell.execute_reply": "2024-07-23T10:47:08.537409Z",
     "shell.execute_reply.started": "2024-07-23T10:47:08.528152Z"
    },
    "trusted": true
   },
   "outputs": [],
   "source": [
    "low_correlated_pairs"
   ]
  },
  {
   "cell_type": "markdown",
   "metadata": {},
   "source": [
    "### Key Insights\n",
    "**Strongest Correlations:**\n",
    "\n",
    "**Diabetes and Blood Glucose Level:** There is a moderate positive correlation (approximately 0.4), indicating that as blood glucose levels increase, the likelihood of diabetes also increases.\n",
    "Diabetes and HbA1c Level: There is a moderate positive correlation (approximately 0.4), suggesting that higher HbA1c levels are associated with a higher likelihood of diabetes.\n",
    "Age and BMI: There is a moderate positive correlation (approximately 0.3), suggesting that older individuals tend to have higher BMI.\n",
    "\n",
    "**Moderate Correlations:**\n",
    "\n",
    "**Hypertension and Age:** There is a positive correlation (approximately 0.2), indicating that older individuals are more likely to have hypertension.\n",
    "Heart Disease and Age: There is a positive correlation (approximately 0.2), suggesting that older individuals are more likely to have heart disease.\n",
    "Smoking History (current) and Diabetes: There is a weak negative correlation (approximately -0.1 to -0.2), indicating that current smokers are slightly less likely to have diabetes.\n",
    "\n",
    "**Weak Correlations:**\n",
    "\n",
    "**Smoking History (various categories) and Diabetes:** Most categories of smoking history have very weak or no correlation with diabetes. This could indicate that smoking history, in this dataset, is not a strong predictor of diabetes.\n",
    "\n",
    "**Gender and Hypertension:** There is a weak positive correlation (approximately 0.2), suggesting a slight gender difference in hypertension prevalence.\n",
    "Gender and Heart Disease: There is a weak positive correlation (approximately 0.1), indicating a slight gender difference in heart disease prevalence.\n",
    "\n",
    "**Negative Correlations:**\n",
    "\n",
    "**Smoking History (current) and HbA1c Level:** There is a weak negative correlation, suggesting that current smokers tend to have slightly lower HbA1c levels.\n",
    "\n",
    "**Smoking History (No Info) and Age:** There is a moderate negative correlation (approximately -0.3), indicating that individuals without smoking history information tend to be younger."
   ]
  },
  {
   "cell_type": "markdown",
   "metadata": {},
   "source": [
    "# Classification Models"
   ]
  },
  {
   "cell_type": "code",
   "execution_count": null,
   "metadata": {
    "execution": {
     "iopub.execute_input": "2024-07-23T10:47:08.540869Z",
     "iopub.status.busy": "2024-07-23T10:47:08.540407Z",
     "iopub.status.idle": "2024-07-23T10:47:08.636653Z",
     "shell.execute_reply": "2024-07-23T10:47:08.635443Z",
     "shell.execute_reply.started": "2024-07-23T10:47:08.540828Z"
    },
    "trusted": true
   },
   "outputs": [],
   "source": [
    "from sklearn.model_selection import train_test_split\n",
    "from sklearn.preprocessing import StandardScaler\n",
    "from sklearn.linear_model import LogisticRegression\n",
    "from sklearn.ensemble import AdaBoostClassifier,RandomForestClassifier\n",
    "from sklearn.metrics import accuracy_score, f1_score, roc_auc_score,confusion_matrix"
   ]
  },
  {
   "cell_type": "code",
   "execution_count": null,
   "metadata": {
    "execution": {
     "iopub.execute_input": "2024-07-23T10:47:08.638726Z",
     "iopub.status.busy": "2024-07-23T10:47:08.638243Z",
     "iopub.status.idle": "2024-07-23T10:47:08.652951Z",
     "shell.execute_reply": "2024-07-23T10:47:08.651705Z",
     "shell.execute_reply.started": "2024-07-23T10:47:08.638681Z"
    },
    "trusted": true
   },
   "outputs": [],
   "source": [
    "X=df.drop(columns=['diabetes'])\n",
    "y=df['diabetes']"
   ]
  },
  {
   "cell_type": "code",
   "execution_count": null,
   "metadata": {
    "execution": {
     "iopub.execute_input": "2024-07-23T10:47:08.655099Z",
     "iopub.status.busy": "2024-07-23T10:47:08.654606Z",
     "iopub.status.idle": "2024-07-23T10:47:08.682703Z",
     "shell.execute_reply": "2024-07-23T10:47:08.681539Z",
     "shell.execute_reply.started": "2024-07-23T10:47:08.655058Z"
    },
    "trusted": true
   },
   "outputs": [],
   "source": [
    "X_train,X_test,y_train,y_test=train_test_split(X,y,test_size=0.2,random_state=42)"
   ]
  },
  {
   "cell_type": "code",
   "execution_count": null,
   "metadata": {
    "execution": {
     "iopub.execute_input": "2024-07-23T10:47:08.684916Z",
     "iopub.status.busy": "2024-07-23T10:47:08.684429Z",
     "iopub.status.idle": "2024-07-23T10:47:08.836782Z",
     "shell.execute_reply": "2024-07-23T10:47:08.835518Z",
     "shell.execute_reply.started": "2024-07-23T10:47:08.684872Z"
    },
    "trusted": true
   },
   "outputs": [],
   "source": [
    "scaler = StandardScaler()\n",
    "X_train = scaler.fit_transform(X_train)\n",
    "X_test= scaler.transform(X_test)"
   ]
  },
  {
   "cell_type": "markdown",
   "metadata": {},
   "source": [
    "## Logistic Regression"
   ]
  },
  {
   "cell_type": "code",
   "execution_count": null,
   "metadata": {
    "execution": {
     "iopub.execute_input": "2024-07-23T10:47:08.838542Z",
     "iopub.status.busy": "2024-07-23T10:47:08.838186Z",
     "iopub.status.idle": "2024-07-23T10:47:09.046353Z",
     "shell.execute_reply": "2024-07-23T10:47:09.044881Z",
     "shell.execute_reply.started": "2024-07-23T10:47:08.838511Z"
    },
    "trusted": true
   },
   "outputs": [],
   "source": [
    "model=LogisticRegression()\n",
    "model.fit(X_train,y_train)"
   ]
  },
  {
   "cell_type": "code",
   "execution_count": null,
   "metadata": {
    "execution": {
     "iopub.execute_input": "2024-07-23T10:47:09.057164Z",
     "iopub.status.busy": "2024-07-23T10:47:09.055551Z",
     "iopub.status.idle": "2024-07-23T10:47:09.067839Z",
     "shell.execute_reply": "2024-07-23T10:47:09.066028Z",
     "shell.execute_reply.started": "2024-07-23T10:47:09.0571Z"
    },
    "trusted": true
   },
   "outputs": [],
   "source": [
    "y_pred = model.predict(X_test)"
   ]
  },
  {
   "cell_type": "code",
   "execution_count": null,
   "metadata": {
    "execution": {
     "iopub.execute_input": "2024-07-23T10:47:09.071538Z",
     "iopub.status.busy": "2024-07-23T10:47:09.070311Z",
     "iopub.status.idle": "2024-07-23T10:47:09.129897Z",
     "shell.execute_reply": "2024-07-23T10:47:09.128201Z",
     "shell.execute_reply.started": "2024-07-23T10:47:09.071471Z"
    },
    "trusted": true
   },
   "outputs": [],
   "source": [
    "accuracy = accuracy_score(y_test, y_pred)\n",
    "f1 = f1_score(y_test, y_pred)\n",
    "roc_auc = roc_auc_score(y_test, y_pred)\n",
    "confusion = confusion_matrix(y_test, y_pred)"
   ]
  },
  {
   "cell_type": "code",
   "execution_count": null,
   "metadata": {
    "execution": {
     "iopub.execute_input": "2024-07-23T10:47:09.133243Z",
     "iopub.status.busy": "2024-07-23T10:47:09.132257Z",
     "iopub.status.idle": "2024-07-23T10:47:09.143089Z",
     "shell.execute_reply": "2024-07-23T10:47:09.141449Z",
     "shell.execute_reply.started": "2024-07-23T10:47:09.133188Z"
    },
    "trusted": true
   },
   "outputs": [],
   "source": [
    "print(f'accuracy: {accuracy}')\n",
    "print(f'f1 score: {f1}')\n",
    "print(f'roc_auc: {roc_auc}')\n",
    "print(f'confusuion matrix: \\n{confusion}')\n"
   ]
  },
  {
   "cell_type": "markdown",
   "metadata": {},
   "source": [
    "## AdaBoost Classifier"
   ]
  },
  {
   "cell_type": "code",
   "execution_count": null,
   "metadata": {
    "execution": {
     "iopub.execute_input": "2024-07-23T10:47:09.146553Z",
     "iopub.status.busy": "2024-07-23T10:47:09.145585Z",
     "iopub.status.idle": "2024-07-23T10:47:12.637939Z",
     "shell.execute_reply": "2024-07-23T10:47:12.636707Z",
     "shell.execute_reply.started": "2024-07-23T10:47:09.146497Z"
    },
    "trusted": true
   },
   "outputs": [],
   "source": [
    "adb = AdaBoostClassifier()\n",
    "adb_model = adb.fit(X_train,y_train)"
   ]
  },
  {
   "cell_type": "code",
   "execution_count": null,
   "metadata": {
    "execution": {
     "iopub.execute_input": "2024-07-23T10:47:12.639845Z",
     "iopub.status.busy": "2024-07-23T10:47:12.63945Z",
     "iopub.status.idle": "2024-07-23T10:47:12.652515Z",
     "shell.execute_reply": "2024-07-23T10:47:12.650458Z",
     "shell.execute_reply.started": "2024-07-23T10:47:12.639812Z"
    },
    "trusted": true
   },
   "outputs": [],
   "source": [
    "y_adb_pred=model.predict(X_test)"
   ]
  },
  {
   "cell_type": "code",
   "execution_count": null,
   "metadata": {
    "execution": {
     "iopub.execute_input": "2024-07-23T10:47:12.655948Z",
     "iopub.status.busy": "2024-07-23T10:47:12.655294Z",
     "iopub.status.idle": "2024-07-23T10:47:12.709594Z",
     "shell.execute_reply": "2024-07-23T10:47:12.706998Z",
     "shell.execute_reply.started": "2024-07-23T10:47:12.655898Z"
    },
    "trusted": true
   },
   "outputs": [],
   "source": [
    "adb_accuracy = accuracy_score(y_test, y_adb_pred)\n",
    "adb_f1 = f1_score(y_test, y_adb_pred)\n",
    "adb_roc_auc = roc_auc_score(y_test, y_adb_pred)\n",
    "adb_confusion = confusion_matrix(y_test, y_adb_pred)"
   ]
  },
  {
   "cell_type": "code",
   "execution_count": null,
   "metadata": {
    "execution": {
     "iopub.execute_input": "2024-07-23T10:47:12.712638Z",
     "iopub.status.busy": "2024-07-23T10:47:12.711925Z",
     "iopub.status.idle": "2024-07-23T10:47:12.724492Z",
     "shell.execute_reply": "2024-07-23T10:47:12.722849Z",
     "shell.execute_reply.started": "2024-07-23T10:47:12.712565Z"
    },
    "trusted": true
   },
   "outputs": [],
   "source": [
    "print(f'accuracy: {adb_accuracy}')\n",
    "print(f'f1 score: {adb_f1}')\n",
    "print(f'roc_auc: {adb_roc_auc}')\n",
    "print(f'confusuion matrix: \\n{adb_confusion}')"
   ]
  },
  {
   "cell_type": "markdown",
   "metadata": {},
   "source": [
    "## RandomForest Classifier"
   ]
  },
  {
   "cell_type": "code",
   "execution_count": null,
   "metadata": {
    "execution": {
     "iopub.execute_input": "2024-07-23T10:47:12.727319Z",
     "iopub.status.busy": "2024-07-23T10:47:12.726493Z",
     "iopub.status.idle": "2024-07-23T10:47:22.732015Z",
     "shell.execute_reply": "2024-07-23T10:47:22.730699Z",
     "shell.execute_reply.started": "2024-07-23T10:47:12.727265Z"
    },
    "trusted": true
   },
   "outputs": [],
   "source": [
    "rf = RandomForestClassifier(random_state=42)\n",
    "rf.fit(X_train, y_train)\n",
    "y_rf_pred = rf.predict(X_test)"
   ]
  },
  {
   "cell_type": "code",
   "execution_count": null,
   "metadata": {
    "execution": {
     "iopub.execute_input": "2024-07-23T10:47:22.734136Z",
     "iopub.status.busy": "2024-07-23T10:47:22.733587Z",
     "iopub.status.idle": "2024-07-23T10:47:22.762767Z",
     "shell.execute_reply": "2024-07-23T10:47:22.761324Z",
     "shell.execute_reply.started": "2024-07-23T10:47:22.734091Z"
    },
    "trusted": true
   },
   "outputs": [],
   "source": [
    "rf_accuracy = accuracy_score(y_test, y_rf_pred)\n",
    "rf_f1 = f1_score(y_test, y_rf_pred)\n",
    "rf_roc_auc = roc_auc_score(y_test, y_rf_pred)\n",
    "rf_confusion = confusion_matrix(y_test, y_rf_pred)"
   ]
  },
  {
   "cell_type": "code",
   "execution_count": null,
   "metadata": {
    "execution": {
     "iopub.execute_input": "2024-07-23T10:47:22.764573Z",
     "iopub.status.busy": "2024-07-23T10:47:22.764209Z",
     "iopub.status.idle": "2024-07-23T10:47:22.771455Z",
     "shell.execute_reply": "2024-07-23T10:47:22.77023Z",
     "shell.execute_reply.started": "2024-07-23T10:47:22.764542Z"
    },
    "trusted": true
   },
   "outputs": [],
   "source": [
    "print(f'accuracy: {rf_accuracy}')\n",
    "print(f'f1 score: {rf_f1}')\n",
    "print(f'roc_auc: {rf_roc_auc}')\n",
    "print(f'confusuion matrix: \\n{rf_confusion}')\n"
   ]
  },
  {
   "cell_type": "markdown",
   "metadata": {},
   "source": [
    "## SVM"
   ]
  },
  {
   "cell_type": "code",
   "execution_count": null,
   "metadata": {
    "execution": {
     "iopub.execute_input": "2024-07-23T10:47:22.773881Z",
     "iopub.status.busy": "2024-07-23T10:47:22.773342Z",
     "iopub.status.idle": "2024-07-23T10:58:25.088037Z",
     "shell.execute_reply": "2024-07-23T10:58:25.086481Z",
     "shell.execute_reply.started": "2024-07-23T10:47:22.773835Z"
    },
    "trusted": true
   },
   "outputs": [],
   "source": [
    "from sklearn.svm import SVC\n",
    "\n",
    "svc = SVC(probability=True, random_state=42)\n",
    "svc.fit(X_train, y_train)\n",
    "y_svc_pred = svc.predict(X_test)"
   ]
  },
  {
   "cell_type": "code",
   "execution_count": null,
   "metadata": {
    "execution": {
     "iopub.execute_input": "2024-07-23T11:02:33.492741Z",
     "iopub.status.busy": "2024-07-23T11:02:33.492292Z",
     "iopub.status.idle": "2024-07-23T11:02:33.526335Z",
     "shell.execute_reply": "2024-07-23T11:02:33.525056Z",
     "shell.execute_reply.started": "2024-07-23T11:02:33.492706Z"
    },
    "trusted": true
   },
   "outputs": [],
   "source": [
    "svc_accuracy = accuracy_score(y_test, y_svc_pred)\n",
    "svc_f1 = f1_score(y_test, y_svc_pred)\n",
    "svc_roc_auc = roc_auc_score(y_test, y_svc_pred)\n",
    "svc_confusion = confusion_matrix(y_test, y_svc_pred)\n",
    "\n",
    "print(f'accuracy: {svc_accuracy}')\n",
    "print(f'f1 score: {svc_f1}')\n",
    "print(f'roc_auc: {svc_roc_auc}')\n",
    "print(f'confusuion matrix: \\n{svc_confusion}')\n"
   ]
  },
  {
   "cell_type": "markdown",
   "metadata": {},
   "source": [
    "# Trend Analysis"
   ]
  },
  {
   "cell_type": "code",
   "execution_count": null,
   "metadata": {
    "execution": {
     "iopub.status.busy": "2024-07-23T10:58:25.735005Z",
     "iopub.status.idle": "2024-07-23T10:58:25.735681Z",
     "shell.execute_reply": "2024-07-23T10:58:25.735347Z",
     "shell.execute_reply.started": "2024-07-23T10:58:25.735317Z"
    },
    "trusted": true
   },
   "outputs": [],
   "source": [
    "pst_cases = df[df['diabetes'] == 1]\n",
    "diabetes_year_counts = pst_cases['year'].value_counts().sort_index()\n",
    "diabetes_year_counts"
   ]
  },
  {
   "cell_type": "code",
   "execution_count": null,
   "metadata": {
    "execution": {
     "iopub.status.busy": "2024-07-23T10:58:25.738585Z",
     "iopub.status.idle": "2024-07-23T10:58:25.739233Z",
     "shell.execute_reply": "2024-07-23T10:58:25.738962Z",
     "shell.execute_reply.started": "2024-07-23T10:58:25.738936Z"
    },
    "trusted": true
   },
   "outputs": [],
   "source": [
    "plt.figure(figsize=(12, 8))\n",
    "sns.barplot(x=diabetes_year_counts.index, y=diabetes_year_counts.values, palette=\"hls\")\n",
    "plt.title(\"Diabetic Cases Over the Years\")\n",
    "plt.xlabel(\"Year\")\n",
    "plt.ylabel(\"Number of Diabetic Cases\")\n",
    "plt.show()"
   ]
  },
  {
   "cell_type": "markdown",
   "metadata": {},
   "source": [
    "### Key insights\n",
    "- The plot shows how the prevalence of diabetes has changed over the years worldwide.\n",
    "- The diabetic patients in year 2015 and 2016 are relatively same in number with 759 and 765 cases.\n",
    "- In year 2018 their is a sharp decline in diabetic patient.\n",
    "- In year 2019, their is significant spike in the prevalence of diabetes acses as compared to the previous years.\n",
    "- The prevelance of diabetes appers to drop dramatically, almost to negligible numbers in year 2020-2022.This sparse data suggest that their might be gaps in data collection maybe due to COVID-19 pandemic."
   ]
  },
  {
   "cell_type": "code",
   "execution_count": null,
   "metadata": {
    "execution": {
     "iopub.status.busy": "2024-07-23T10:58:25.741511Z",
     "iopub.status.idle": "2024-07-23T10:58:25.742126Z",
     "shell.execute_reply": "2024-07-23T10:58:25.741857Z",
     "shell.execute_reply.started": "2024-07-23T10:58:25.741832Z"
    },
    "trusted": true
   },
   "outputs": [],
   "source": [
    "trends=pst_cases.groupby('year')[['blood_glucose_level','age','hbA1c_level']].mean()\n",
    "trends"
   ]
  },
  {
   "cell_type": "code",
   "execution_count": null,
   "metadata": {
    "execution": {
     "iopub.status.busy": "2024-07-23T10:58:25.744086Z",
     "iopub.status.idle": "2024-07-23T10:58:25.744706Z",
     "shell.execute_reply": "2024-07-23T10:58:25.744412Z",
     "shell.execute_reply.started": "2024-07-23T10:58:25.744388Z"
    },
    "trusted": true
   },
   "outputs": [],
   "source": [
    "plt.figure(figsize=(15, 8))\n",
    "\n",
    "plt.subplot(2, 2, 1)\n",
    "sns.lineplot(data=trends, x=trends.index, y='age')\n",
    "plt.title(\"Average Age of Diabetic Cases Over the Years\")\n",
    "\n",
    "plt.subplot(2, 2, 2)\n",
    "sns.lineplot(data=trends, x=trends.index, y='blood_glucose_level')\n",
    "plt.title(\"Average Blood Glucose Level of Diabetic Cases Over the Years\")\n",
    "\n",
    "plt.subplot(2, 2, 3)\n",
    "sns.lineplot(data=trends, x=trends.index, y='hbA1c_level')\n",
    "plt.title(\"Average HbA1c Level of Diabetic Cases Over the Years\")\n",
    "\n",
    "plt.tight_layout()\n",
    "plt.show()"
   ]
  },
  {
   "cell_type": "markdown",
   "metadata": {},
   "source": [
    "## **Average Age of Diabetic Cases**\n",
    "**Trend:** The average age of diabetic cases shows some fluctuations over the years. The average age started around 83 years in 2015, dropped to about 81 years in 2016, then gradually increased, peaking around 88 years in 2020, before dropping again.\n",
    "\n",
    "## **Average Blood Glucose Level of Diabetic Cases**\n",
    "**Trend:** The average blood glucose level of diabetic cases shows a noticeable spike.From 2015 to 2018, the average blood glucose level remained relatively stable around 190-200 mg/dL. However, there was a sharp increase in 2019, peaking at around 240 mg/dL, followed by a decrease in 2020 and 2021, then a slight increase again in 2022.\n",
    "\n",
    "## **Average HbA1c Level of Diabetic Cases**\n",
    "**Trend:** The average HbA1c level also shows fluctuations over the years.The average HbA1c level was relatively stable from 2015 to 2017 around 7.0%. It then showed some variations, with a peak in 2020 and a dip in 2021, followed by another peak in 2022."
   ]
  }
 ],
 "metadata": {
  "kaggle": {
   "accelerator": "none",
   "dataSources": [
    {
     "datasetId": 5420190,
     "sourceId": 8998172,
     "sourceType": "datasetVersion"
    }
   ],
   "dockerImageVersionId": 30746,
   "isGpuEnabled": false,
   "isInternetEnabled": false,
   "language": "python",
   "sourceType": "notebook"
  },
  "kernelspec": {
   "display_name": "Python 3",
   "language": "python",
   "name": "python3"
  },
  "language_info": {
   "codemirror_mode": {
    "name": "ipython",
    "version": 3
   },
   "file_extension": ".py",
   "mimetype": "text/x-python",
   "name": "python",
   "nbconvert_exporter": "python",
   "pygments_lexer": "ipython3",
   "version": "3.10.13"
  }
 },
 "nbformat": 4,
 "nbformat_minor": 4
}
